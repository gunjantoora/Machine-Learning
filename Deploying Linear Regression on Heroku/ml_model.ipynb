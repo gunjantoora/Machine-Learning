{
 "cells": [
  {
   "cell_type": "code",
   "execution_count": 12,
   "id": "2d7f8710",
   "metadata": {},
   "outputs": [],
   "source": [
    "import pandas as pd \n",
    "import numpy as np \n",
    "\n",
    "from sklearn.model_selection import train_test_split\n",
    "from sklearn.preprocessing import LabelEncoder\n",
    "from sklearn.linear_model import LogisticRegression"
   ]
  },
  {
   "cell_type": "code",
   "execution_count": 13,
   "id": "b24f070f",
   "metadata": {},
   "outputs": [],
   "source": [
    "def logistic_model():\n",
    "    df = pd.read_csv(\"WineQT.csv\")\n",
    "    \n",
    "    X = df.drop([\"quality\", \"Id\"], axis=1)\n",
    "    y = df[\"quality\"]\n",
    "    \n",
    "    X_train, X_test, y_train, y_test = train_test_split(X, y, test_size=0.2, random_state=1, stratify=y)\n",
    "    \n",
    "    label_encoder = LabelEncoder()\n",
    "    y_train =  label_encoder.fit_transform(y_train)\n",
    "    y_test = label_encoder.transform(y_test)\n",
    "    \n",
    "    #logistic regression\n",
    "\n",
    "\n",
    "    lr = LogisticRegression(solver='newton-cg',random_state=1,fit_intercept=False)\n",
    "    model  = lr.fit(X_train,y_train)\n",
    "    \n",
    "    y_pred = model.predict(X_test)\n",
    "    \n",
    "    return y_pred"
   ]
  },
  {
   "cell_type": "code",
   "execution_count": 14,
   "id": "826158fc",
   "metadata": {},
   "outputs": [
    {
     "data": {
      "text/plain": [
       "array([3, 3, 2, 2, 2, 2, 2, 2, 3, 2, 3, 3, 3, 3, 3, 2, 2, 4, 4, 3, 4, 3,\n",
       "       3, 2, 2, 3, 2, 2, 4, 3, 3, 2, 3, 3, 2, 2, 2, 3, 2, 3, 4, 3, 2, 3,\n",
       "       2, 3, 2, 3, 3, 2, 3, 2, 2, 2, 3, 3, 2, 2, 2, 2, 2, 3, 3, 3, 2, 2,\n",
       "       3, 2, 3, 3, 3, 3, 2, 3, 3, 2, 3, 3, 2, 3, 2, 2, 3, 2, 2, 2, 3, 2,\n",
       "       3, 3, 2, 2, 2, 3, 2, 2, 3, 3, 4, 3, 3, 2, 3, 4, 3, 2, 3, 2, 2, 2,\n",
       "       2, 2, 3, 3, 2, 3, 3, 3, 3, 3, 3, 2, 2, 2, 2, 2, 3, 3, 2, 4, 2, 2,\n",
       "       3, 3, 4, 2, 3, 2, 4, 2, 3, 3, 2, 3, 3, 3, 2, 3, 2, 3, 2, 3, 3, 3,\n",
       "       2, 2, 3, 3, 2, 2, 4, 2, 2, 2, 4, 2, 2, 2, 3, 3, 2, 3, 3, 3, 3, 3,\n",
       "       3, 2, 2, 2, 2, 2, 3, 2, 3, 2, 2, 2, 2, 3, 2, 2, 3, 3, 2, 3, 3, 3,\n",
       "       3, 2, 3, 2, 3, 2, 2, 3, 3, 3, 2, 2, 3, 2, 2, 2, 3, 2, 3, 4, 3, 2,\n",
       "       3, 2, 3, 2, 2, 3, 3, 2, 2])"
      ]
     },
     "execution_count": 14,
     "metadata": {},
     "output_type": "execute_result"
    }
   ],
   "source": [
    "logistic_model()"
   ]
  },
  {
   "cell_type": "code",
   "execution_count": 9,
   "id": "19be1993",
   "metadata": {},
   "outputs": [],
   "source": [
    "df = pd.read_csv(\"WineQT.csv\")\n",
    "    \n",
    "X = df.drop([\"quality\", \"Id\"], axis=1)\n",
    "y = df[\"quality\"]\n",
    "    \n",
    "X_train, X_test, y_train, y_test = train_test_split(X, y, test_size=0.2, random_state=1, stratify=y)\n",
    "\n",
    "label_encoder = LabelEncoder()\n",
    "y_train =  label_encoder.fit_transform(y_train)\n",
    "y_test = label_encoder.transform(y_test)\n",
    "    \n",
    "    #logistic regression\n",
    "\n",
    "\n",
    "lr = LogisticRegression(solver='newton-cg',random_state=1,fit_intercept=False)\n",
    "model  = lr.fit(X_train,y_train)\n",
    "    \n",
    "y_pred = model.predict(X_test)"
   ]
  },
  {
   "cell_type": "code",
   "execution_count": 15,
   "id": "da182187",
   "metadata": {},
   "outputs": [],
   "source": [
    "import pickle\n",
    "\n",
    "with open ('/Users/gunjantoora/Documents/gunjan-home/uic/spring22/MLops/project/ml models/ml_model.pkl', 'wb') as ml_model:\n",
    "    pickle.dump(lr, ml_model)"
   ]
  },
  {
   "cell_type": "code",
   "execution_count": null,
   "id": "157433a8",
   "metadata": {},
   "outputs": [],
   "source": []
  }
 ],
 "metadata": {
  "kernelspec": {
   "display_name": "Python 3",
   "language": "python",
   "name": "python3"
  },
  "language_info": {
   "codemirror_mode": {
    "name": "ipython",
    "version": 3
   },
   "file_extension": ".py",
   "mimetype": "text/x-python",
   "name": "python",
   "nbconvert_exporter": "python",
   "pygments_lexer": "ipython3",
   "version": "3.8.8"
  }
 },
 "nbformat": 4,
 "nbformat_minor": 5
}
